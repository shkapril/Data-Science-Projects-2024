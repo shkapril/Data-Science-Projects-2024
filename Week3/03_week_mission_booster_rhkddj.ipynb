{
  "cells": [
    {
      "cell_type": "markdown",
      "metadata": {
        "id": "btieCSRITT70"
      },
      "source": [
        "## 3주차 미션 소개 -  피처 엔지니어링(Feature Engineering)\n",
        "\n",
        "* 피처 엔지니어링(Feature Engineering)은 머신러닝 모델을 훈련시키기 위해 입력 데이터로 사용되는 피처(또는 변수)들을 가공하거나 새로운 피처를 만들어내는 과정을 말합니다. 피처 엔지니어링은 머신러닝 성능을 향상시키고 모델의 일반화 성능을 향상시키는 데 핵심적인 역할을 합니다. 현실 세계의 데이터는 종종 불완전하고 노이즈가 많습니다. 결측값, 이상치, 오류 등이 있을 수 있습니다. 종속 변수와의 관계를 강화하고 모델이 더 나은 예측을 할 수 있도록 도와줍니다. 예를 들어, 특정 도메인 지식을 활용하여 새로운 피처를 생성하거나 기존 피처를 변형시켜 모델이 패턴을 더 잘 파악하도록 할 수 있습니다. 불필요한 피처를 제거하거나 피처를 효과적으로 변형함으로써 모델의 계산 효율성을 높일 수 있습니다. 이는 모델을 더 빠르게 훈련시키고 실행시킬 수 있습니다.\n",
        "\n",
        "* 미션 데이터셋 소개\n",
        "\n",
        "    * 해당 Kaggle 데이터셋( https://www.kaggle.com/blastchar/telco-customer-churn )은 통신사 고객 이탈(Churn)에 대한 정보를 담고 있습니다. IBM에서 제공한 이 데이터셋은 고객 유지에 필요한 행동을 예측하는 데 사용될 수 있으며, 고객 데이터를 분석하여 고객 유지 프로그램을 개발하는 데 도움이 됩니다.\n",
        "    * 해당 데이터셋은 다음의 정보로 구성되어 있습니다.\n",
        "        * 고객 인구 통계 정보(Demographic info): 고객의 성별, 연령대, 배우자 및 부양 가족의 유무(Gender, SeniorCitizen, Partner, Dependents) 등에 관한 정보가 포함되어 있습니다.\n",
        "        * 고객 이탈(Churn) 정보: 서비스를 중단 여부에 대한 정보가 포함되어 있습니다.\n",
        "        * 서비스 가입 정보(Services subscribed): 고객들이 가입한 서비스들, 예를 들어 전화, 다중 라인, 인터넷, 온라인 보안, 온라인 백업, 장치 보호, 기술 지원, 스트리밍 TV 및 영화( honeService, MultipleLine, InternetService, OnlineSecurity, OnlineBackup, DeviceProtection, TechSupport, StreamingTV, StreamingMovies) 등에 대한 정보가 있습니다.\n",
        "        * 고객 계정 정보(Customer account info): 고객이 얼마나 오래 서비스를 이용했는지, 계약 유형, 결제 방법, 무페이퍼 청구 여부, 월별 요금, 총 요금 (CustomerID, Contract, PaperlessBilling, PaymentMethod, MonthlyCharges, TotalCharges, Tenure)등의 정보가 담겨 있습니다."
      ]
    },
    {
      "cell_type": "code",
      "execution_count": 1,
      "metadata": {
        "id": "BF8LHnuOTT74"
      },
      "outputs": [],
      "source": [
        "import pandas as pd\n",
        "import numpy as np\n",
        "import seaborn as sns\n",
        "import matplotlib.pyplot as plt"
      ]
    },
    {
      "cell_type": "code",
      "execution_count": 2,
      "metadata": {
        "id": "heU35nD3TT76"
      },
      "outputs": [
        {
          "data": {
            "text/plain": [
              "(7043, 20)"
            ]
          },
          "execution_count": 2,
          "metadata": {},
          "output_type": "execute_result"
        }
      ],
      "source": [
        "# 미션 수행을 위해 데이터셋을 로드합니다.\n",
        "df = pd.read_csv(\"https://bit.ly/telco-csv\", index_col=\"customerID\")\n",
        "df.shape"
      ]
    },
    {
      "cell_type": "code",
      "execution_count": 3,
      "metadata": {
        "id": "1dJgT0BQTT76"
      },
      "outputs": [
        {
          "data": {
            "text/html": [
              "<div>\n",
              "<style scoped>\n",
              "    .dataframe tbody tr th:only-of-type {\n",
              "        vertical-align: middle;\n",
              "    }\n",
              "\n",
              "    .dataframe tbody tr th {\n",
              "        vertical-align: top;\n",
              "    }\n",
              "\n",
              "    .dataframe thead th {\n",
              "        text-align: right;\n",
              "    }\n",
              "</style>\n",
              "<table border=\"1\" class=\"dataframe\">\n",
              "  <thead>\n",
              "    <tr style=\"text-align: right;\">\n",
              "      <th></th>\n",
              "      <th>gender</th>\n",
              "      <th>SeniorCitizen</th>\n",
              "      <th>Partner</th>\n",
              "      <th>Dependents</th>\n",
              "      <th>tenure</th>\n",
              "      <th>PhoneService</th>\n",
              "      <th>MultipleLines</th>\n",
              "      <th>InternetService</th>\n",
              "      <th>OnlineSecurity</th>\n",
              "      <th>OnlineBackup</th>\n",
              "      <th>DeviceProtection</th>\n",
              "      <th>TechSupport</th>\n",
              "      <th>StreamingTV</th>\n",
              "      <th>StreamingMovies</th>\n",
              "      <th>Contract</th>\n",
              "      <th>PaperlessBilling</th>\n",
              "      <th>PaymentMethod</th>\n",
              "      <th>MonthlyCharges</th>\n",
              "      <th>TotalCharges</th>\n",
              "      <th>Churn</th>\n",
              "    </tr>\n",
              "    <tr>\n",
              "      <th>customerID</th>\n",
              "      <th></th>\n",
              "      <th></th>\n",
              "      <th></th>\n",
              "      <th></th>\n",
              "      <th></th>\n",
              "      <th></th>\n",
              "      <th></th>\n",
              "      <th></th>\n",
              "      <th></th>\n",
              "      <th></th>\n",
              "      <th></th>\n",
              "      <th></th>\n",
              "      <th></th>\n",
              "      <th></th>\n",
              "      <th></th>\n",
              "      <th></th>\n",
              "      <th></th>\n",
              "      <th></th>\n",
              "      <th></th>\n",
              "      <th></th>\n",
              "    </tr>\n",
              "  </thead>\n",
              "  <tbody>\n",
              "    <tr>\n",
              "      <th>7590-VHVEG</th>\n",
              "      <td>Female</td>\n",
              "      <td>0</td>\n",
              "      <td>Yes</td>\n",
              "      <td>No</td>\n",
              "      <td>1</td>\n",
              "      <td>No</td>\n",
              "      <td>No phone service</td>\n",
              "      <td>DSL</td>\n",
              "      <td>No</td>\n",
              "      <td>Yes</td>\n",
              "      <td>No</td>\n",
              "      <td>No</td>\n",
              "      <td>No</td>\n",
              "      <td>No</td>\n",
              "      <td>Month-to-month</td>\n",
              "      <td>Yes</td>\n",
              "      <td>Electronic check</td>\n",
              "      <td>29.85</td>\n",
              "      <td>29.85</td>\n",
              "      <td>No</td>\n",
              "    </tr>\n",
              "    <tr>\n",
              "      <th>5575-GNVDE</th>\n",
              "      <td>Male</td>\n",
              "      <td>0</td>\n",
              "      <td>No</td>\n",
              "      <td>No</td>\n",
              "      <td>34</td>\n",
              "      <td>Yes</td>\n",
              "      <td>No</td>\n",
              "      <td>DSL</td>\n",
              "      <td>Yes</td>\n",
              "      <td>No</td>\n",
              "      <td>Yes</td>\n",
              "      <td>No</td>\n",
              "      <td>No</td>\n",
              "      <td>No</td>\n",
              "      <td>One year</td>\n",
              "      <td>No</td>\n",
              "      <td>Mailed check</td>\n",
              "      <td>56.95</td>\n",
              "      <td>1889.5</td>\n",
              "      <td>No</td>\n",
              "    </tr>\n",
              "    <tr>\n",
              "      <th>3668-QPYBK</th>\n",
              "      <td>Male</td>\n",
              "      <td>0</td>\n",
              "      <td>No</td>\n",
              "      <td>No</td>\n",
              "      <td>2</td>\n",
              "      <td>Yes</td>\n",
              "      <td>No</td>\n",
              "      <td>DSL</td>\n",
              "      <td>Yes</td>\n",
              "      <td>Yes</td>\n",
              "      <td>No</td>\n",
              "      <td>No</td>\n",
              "      <td>No</td>\n",
              "      <td>No</td>\n",
              "      <td>Month-to-month</td>\n",
              "      <td>Yes</td>\n",
              "      <td>Mailed check</td>\n",
              "      <td>53.85</td>\n",
              "      <td>108.15</td>\n",
              "      <td>Yes</td>\n",
              "    </tr>\n",
              "    <tr>\n",
              "      <th>7795-CFOCW</th>\n",
              "      <td>Male</td>\n",
              "      <td>0</td>\n",
              "      <td>No</td>\n",
              "      <td>No</td>\n",
              "      <td>45</td>\n",
              "      <td>No</td>\n",
              "      <td>No phone service</td>\n",
              "      <td>DSL</td>\n",
              "      <td>Yes</td>\n",
              "      <td>No</td>\n",
              "      <td>Yes</td>\n",
              "      <td>Yes</td>\n",
              "      <td>No</td>\n",
              "      <td>No</td>\n",
              "      <td>One year</td>\n",
              "      <td>No</td>\n",
              "      <td>Bank transfer (automatic)</td>\n",
              "      <td>42.30</td>\n",
              "      <td>1840.75</td>\n",
              "      <td>No</td>\n",
              "    </tr>\n",
              "    <tr>\n",
              "      <th>9237-HQITU</th>\n",
              "      <td>Female</td>\n",
              "      <td>0</td>\n",
              "      <td>No</td>\n",
              "      <td>No</td>\n",
              "      <td>2</td>\n",
              "      <td>Yes</td>\n",
              "      <td>No</td>\n",
              "      <td>Fiber optic</td>\n",
              "      <td>No</td>\n",
              "      <td>No</td>\n",
              "      <td>No</td>\n",
              "      <td>No</td>\n",
              "      <td>No</td>\n",
              "      <td>No</td>\n",
              "      <td>Month-to-month</td>\n",
              "      <td>Yes</td>\n",
              "      <td>Electronic check</td>\n",
              "      <td>70.70</td>\n",
              "      <td>151.65</td>\n",
              "      <td>Yes</td>\n",
              "    </tr>\n",
              "  </tbody>\n",
              "</table>\n",
              "</div>"
            ],
            "text/plain": [
              "            gender  SeniorCitizen Partner Dependents  tenure PhoneService  \\\n",
              "customerID                                                                  \n",
              "7590-VHVEG  Female              0     Yes         No       1           No   \n",
              "5575-GNVDE    Male              0      No         No      34          Yes   \n",
              "3668-QPYBK    Male              0      No         No       2          Yes   \n",
              "7795-CFOCW    Male              0      No         No      45           No   \n",
              "9237-HQITU  Female              0      No         No       2          Yes   \n",
              "\n",
              "               MultipleLines InternetService OnlineSecurity OnlineBackup  \\\n",
              "customerID                                                                 \n",
              "7590-VHVEG  No phone service             DSL             No          Yes   \n",
              "5575-GNVDE                No             DSL            Yes           No   \n",
              "3668-QPYBK                No             DSL            Yes          Yes   \n",
              "7795-CFOCW  No phone service             DSL            Yes           No   \n",
              "9237-HQITU                No     Fiber optic             No           No   \n",
              "\n",
              "           DeviceProtection TechSupport StreamingTV StreamingMovies  \\\n",
              "customerID                                                            \n",
              "7590-VHVEG               No          No          No              No   \n",
              "5575-GNVDE              Yes          No          No              No   \n",
              "3668-QPYBK               No          No          No              No   \n",
              "7795-CFOCW              Yes         Yes          No              No   \n",
              "9237-HQITU               No          No          No              No   \n",
              "\n",
              "                  Contract PaperlessBilling              PaymentMethod  \\\n",
              "customerID                                                               \n",
              "7590-VHVEG  Month-to-month              Yes           Electronic check   \n",
              "5575-GNVDE        One year               No               Mailed check   \n",
              "3668-QPYBK  Month-to-month              Yes               Mailed check   \n",
              "7795-CFOCW        One year               No  Bank transfer (automatic)   \n",
              "9237-HQITU  Month-to-month              Yes           Electronic check   \n",
              "\n",
              "            MonthlyCharges TotalCharges Churn  \n",
              "customerID                                     \n",
              "7590-VHVEG           29.85        29.85    No  \n",
              "5575-GNVDE           56.95       1889.5    No  \n",
              "3668-QPYBK           53.85       108.15   Yes  \n",
              "7795-CFOCW           42.30      1840.75    No  \n",
              "9237-HQITU           70.70       151.65   Yes  "
            ]
          },
          "execution_count": 3,
          "metadata": {},
          "output_type": "execute_result"
        }
      ],
      "source": [
        "df.head()"
      ]
    },
    {
      "cell_type": "code",
      "execution_count": 4,
      "metadata": {
        "id": "UxUMJES1TT76"
      },
      "outputs": [],
      "source": [
        "# TotalCharges 가 수치 타입이 아니기 때문에 수치 연산을 위해 숫자 형태로 변경합니다.\n",
        "df[\"TotalCharges\"] = pd.to_numeric(df[\"TotalCharges\"], errors=\"coerce\")"
      ]
    },
    {
      "cell_type": "code",
      "execution_count": 5,
      "metadata": {
        "id": "U9ZUMWR4TT77"
      },
      "outputs": [],
      "source": [
        "df = df.dropna()"
      ]
    },
    {
      "cell_type": "markdown",
      "metadata": {
        "id": "FEQgZNPbTT77"
      },
      "source": [
        "## 미션 1) - 수치형 변수를 범주형 변수로 만들기\n",
        "\n",
        "* 월별 지불 금액을 그룹화하여 지불 금액 구간별 경향성을 분석할 수 있습니다. 이러한 수치형 데이터의 범주화는 수치형 데이터에 이상치가 있을 경우, 이를 구간화함으로써 이상치의 영향을 줄일 수 있습니다. 범주화된 데이터는 일반적으로 이해하기 쉽습니다. 그리고 모델이 특정 수치에 과도하게 적합되는 것을 방지할 수 있습니다. 수치형 데이터를 구간으로 나눔으로써 모델이 데이터의 일반적인 패턴을 학습하는 데 집중하도록 할 수 있습니다. 범주화된 데이터는 시각화 및 보고서 작성 시 직관적이고 명확한 정보 전달이 가능합니다. 데이터의 분포, 추세 등을 파악하기에 용이합니다. 데이터의 분포가 불균일할 때, 구간화를 통해 각 범주 내 데이터의 분포를 보다 균일하게 만들 수 있습니다. 위와 같은 이유로 수치형 변수를 범주화 하는 미션을 진행해 보겠습니다.\n",
        "\n",
        "* 수치형 변수를 범주형 변수로 변환합니다.\n",
        "* MonthlyCharges 를 4개의 구간으로 나눕니다. 구간을 나누는 기준은 시각화 내용을 바탕으로 정하며 기준에 대한 정답이 있지는 않습니다. 구간을 정한 기준을 설명으로 작성하고 구간을 나누는 코드를 작성해 주세요.\n",
        "\n",
        "* 다음과 같이 원본과 구간을 나눈 데이터를 비교해 주세요. 기준이 정해져 있지 않으며 정답이 없으니 자율적으로 나눠 보세요.\n",
        "\n",
        "| customerID   |   MonthlyCharges | monthlycharges_group   |\n",
        "|:-------------|-----------------:|:-----------------------|\n",
        "| 7590-VHVEG   |            29.85 | 0-30                   |\n",
        "| 5575-GNVDE   |            56.95 | 30-70                  |\n",
        "| 3668-QPYBK   |            53.85 | 30-70                  |\n",
        "| 7795-CFOCW   |            42.3  | 30-70                  |\n",
        "| 9237-HQITU   |            70.7  | 70-99                  |\n",
        "\n",
        "<table>\n",
        "    <tr>\n",
        "        <td><img src=\"https://i.imgur.com/Tiub25Z.png\" width=\"300\"></td>\n",
        "        <td><img src=\"https://i.imgur.com/7iGsGPB.png\" width=\"300\"></td>\n",
        "    </tr>\n",
        "</table>"
      ]
    },
    {
      "cell_type": "code",
      "execution_count": 31,
      "metadata": {
        "id": "JM87Ui9FTT77",
        "scrolled": false
      },
      "outputs": [],
      "source": [
        "# 여기에 코드를 입력해 주세요.\n",
        "bins = [0, 30, 70, 99, 999]  # 주어진 구간 설정\n",
        "labels = ['0-30', '30-70', '70-99', '99plus']  # 각 구간의 레이블 설정\n",
        "df['MonthlyCharges_Group'] = pd.cut(df['MonthlyCharges'], bins=bins, labels=labels, right=False)\n",
        "\n",
        "\n"
      ]
    },
    {
      "cell_type": "code",
      "execution_count": 34,
      "metadata": {
        "id": "jiDI-BuUTT78"
      },
      "outputs": [
        {
          "data": {
            "text/plain": [
              "Text(0.5, 0, 'MonthlyCharges Group')"
            ]
          },
          "execution_count": 34,
          "metadata": {},
          "output_type": "execute_result"
        },
        {
          "data": {
            "image/png": "[encoded data removed]",
            "text/plain": [
              "<Figure size 800x500 with 2 Axes>"
            ]
          },
          "metadata": {},
          "output_type": "display_data"
        }
      ],
      "source": [
        "# 여기에 구간화 전의 수치 변수에 대한 히스토그램과 구간화 이후 범주로 변환해준 변수에 대한 countplot을 시각화 해주세요.\n",
        "plt.figure(figsize=(8, 5))\n",
        "plt.subplot(1, 2, 1)\n",
        "plt.hist(df['MonthlyCharges'])\n",
        "plt.grid(alpha=0.5)\n",
        "plt.title('MonthlyCharges')\n",
        "plt.xlabel('MonthlyCharges')\n",
        "\n",
        "plt.subplot(1, 2, 2)\n",
        "sns.countplot(x='MonthlyCharges_Group', data=df, hue='MonthlyCharges_Group')\n",
        "plt.xlabel('MonthlyCharges Group')\n",
        "\n",
        "\n"
      ]
    },
    {
      "cell_type": "markdown",
      "metadata": {
        "id": "MR-yoos6TT78"
      },
      "source": [
        "## 미션 2) - One-Hot-Encoding 하기\n",
        "\n",
        "* One-Hot Encoding은 범주형 데이터를 머신러닝 모델이 이해할 수 있는 형태로 변환하는 기술 중 하나입니다. One-Hot Encoding을 사용하면 각 범주 간의 거리가 동일하게 유지됩니다. 즉, 범주 간의 유사성을 측정할 때 각 범주가 동일한 거리로 취급되므로 모델이 범주 간의 관계를 더 정확하게 학습할 수 있습니다. One-Hot Encoding은 범주의 수에 따라 적절한 차원을 생성하므로 데이터가 새로운 범주로 확장되거나 변할 때 모델이 쉽게 일반화될 수 있습니다. 각 범주가 독립된 차원으로 표현되므로, 모델의 예측이나 특성 중요도를 해석할 때 각 범주에 대한 기여를 명확하게 파악할 수 있습니다. 라벨 인코딩과 같은 다른 방법들이 범주 간의 임의의 순서를 생성할 수 있는 반면, One-hot encoding은 이러한 문제를 방지하고 모델이 데이터를 오해하는 것을 막습니다. 하지만, One-hot encoding은 범주의 수가 매우 많을 때 차원의 저주(curse of dimensionality)를 초래하거나, 데이터가 희소해질 수 있으므로 적용 시 이러한 점을 고려해야 합니다. 다음의 예시처럼 데이터를 One-Hot-Encoding 해주세요.\n",
        "\n",
        "<img src=\"https://i.imgur.com/9Njm4aN.png\">\n",
        "\n",
        "| customerID   |   SeniorCitizen |   tenure |   TotalCharges |   gender_Female |   gender_Male |   Partner_No |   Partner_Yes |   Dependents_No |   Dependents_Yes |   PhoneService_No |\n",
        "|:-------------|----------------:|---------:|---------------:|----------------:|--------------:|-------------:|--------------:|----------------:|-----------------:|------------------:|\n",
        "| 7590-VHVEG   |               0 |        1 |          29.85 |               1 |             0 |            0 |             1 |               1 |                0 |                 1 |\n",
        "| 5575-GNVDE   |               0 |       34 |        1889.5  |               0 |             1 |            1 |             0 |               1 |                0 |                 0 |\n",
        "| 3668-QPYBK   |               0 |        2 |         108.15 |               0 |             1 |            1 |             0 |               1 |                0 |                 0 |\n",
        "| 7795-CFOCW   |               0 |       45 |        1840.75 |               0 |             1 |            1 |             0 |               1 |                0 |                 1 |\n",
        "| 9237-HQITU   |               0 |        2 |         151.65 |               1 |             0 |            1 |             0 |               1 |                0 |                 0 |\n"
      ]
    },
    {
      "cell_type": "code",
      "execution_count": 42,
      "metadata": {},
      "outputs": [
        {
          "name": "stdout",
          "output_type": "stream",
          "text": [
            "<class 'pandas.core.frame.DataFrame'>\n",
            "Index: 7032 entries, 7590-VHVEG to 3186-AJIEK\n",
            "Data columns (total 25 columns):\n",
            " #   Column                Non-Null Count  Dtype   \n",
            "---  ------                --------------  -----   \n",
            " 0   gender                7032 non-null   object  \n",
            " 1   SeniorCitizen         7032 non-null   int64   \n",
            " 2   Partner               7032 non-null   object  \n",
            " 3   Dependents            7032 non-null   object  \n",
            " 4   tenure                7032 non-null   int64   \n",
            " 5   PhoneService          7032 non-null   object  \n",
            " 6   MultipleLines         7032 non-null   object  \n",
            " 7   InternetService       7032 non-null   object  \n",
            " 8   OnlineSecurity        7032 non-null   object  \n",
            " 9   OnlineBackup          7032 non-null   object  \n",
            " 10  DeviceProtection      7032 non-null   object  \n",
            " 11  TechSupport           7032 non-null   object  \n",
            " 12  StreamingTV           7032 non-null   object  \n",
            " 13  StreamingMovies       7032 non-null   object  \n",
            " 14  Contract              7032 non-null   object  \n",
            " 15  PaperlessBilling      7032 non-null   object  \n",
            " 16  PaymentMethod         7032 non-null   object  \n",
            " 17  MonthlyCharges        7032 non-null   float64 \n",
            " 18  TotalCharges          7032 non-null   float64 \n",
            " 19  Churn                 7032 non-null   object  \n",
            " 20  0-30                  7032 non-null   bool    \n",
            " 21  30-70                 7032 non-null   bool    \n",
            " 22  70-99                 7032 non-null   bool    \n",
            " 23  99plus                7032 non-null   bool    \n",
            " 24  MonthlyCharges_Group  7032 non-null   category\n",
            "dtypes: bool(4), category(1), float64(2), int64(2), object(16)\n",
            "memory usage: 1.4+ MB\n"
          ]
        }
      ],
      "source": [
        "df.info()"
      ]
    },
    {
      "cell_type": "code",
      "execution_count": 64,
      "metadata": {
        "id": "bvxXBUakTT78",
        "scrolled": true
      },
      "outputs": [
        {
          "name": "stdout",
          "output_type": "stream",
          "text": [
            "            SeniorCitizen  tenure  MonthlyCharges  TotalCharges  \\\n",
            "customerID                                                        \n",
            "7590-VHVEG              0       1              29            29   \n",
            "5575-GNVDE              0      34              56          1889   \n",
            "3668-QPYBK              0       2              53           108   \n",
            "7795-CFOCW              0      45              42          1840   \n",
            "9237-HQITU              0       2              70           151   \n",
            "...                   ...     ...             ...           ...   \n",
            "6840-RESVB              0      24              84          1990   \n",
            "2234-XADUH              0      72             103          7362   \n",
            "4801-JZAZL              0      11              29           346   \n",
            "8361-LTMKD              1       4              74           306   \n",
            "3186-AJIEK              0      66             105          6844   \n",
            "\n",
            "            gender_Female  gender_Male  Partner_No  Partner_Yes  \\\n",
            "customerID                                                        \n",
            "7590-VHVEG              1            0           0            1   \n",
            "5575-GNVDE              0            1           1            0   \n",
            "3668-QPYBK              0            1           1            0   \n",
            "7795-CFOCW              0            1           1            0   \n",
            "9237-HQITU              1            0           1            0   \n",
            "...                   ...          ...         ...          ...   \n",
            "6840-RESVB              0            1           0            1   \n",
            "2234-XADUH              1            0           0            1   \n",
            "4801-JZAZL              1            0           0            1   \n",
            "8361-LTMKD              0            1           0            1   \n",
            "3186-AJIEK              0            1           1            0   \n",
            "\n",
            "            Dependents_No  Dependents_Yes  ...  Contract_One year  \\\n",
            "customerID                                 ...                      \n",
            "7590-VHVEG              1               0  ...                  0   \n",
            "5575-GNVDE              1               0  ...                  1   \n",
            "3668-QPYBK              1               0  ...                  0   \n",
            "7795-CFOCW              1               0  ...                  1   \n",
            "9237-HQITU              1               0  ...                  0   \n",
            "...                   ...             ...  ...                ...   \n",
            "6840-RESVB              0               1  ...                  1   \n",
            "2234-XADUH              0               1  ...                  1   \n",
            "4801-JZAZL              0               1  ...                  0   \n",
            "8361-LTMKD              1               0  ...                  0   \n",
            "3186-AJIEK              1               0  ...                  0   \n",
            "\n",
            "            Contract_Two year  PaperlessBilling_No  PaperlessBilling_Yes  \\\n",
            "customerID                                                                 \n",
            "7590-VHVEG                  0                    0                     1   \n",
            "5575-GNVDE                  0                    1                     0   \n",
            "3668-QPYBK                  0                    0                     1   \n",
            "7795-CFOCW                  0                    1                     0   \n",
            "9237-HQITU                  0                    0                     1   \n",
            "...                       ...                  ...                   ...   \n",
            "6840-RESVB                  0                    0                     1   \n",
            "2234-XADUH                  0                    0                     1   \n",
            "4801-JZAZL                  0                    0                     1   \n",
            "8361-LTMKD                  0                    0                     1   \n",
            "3186-AJIEK                  1                    0                     1   \n",
            "\n",
            "            PaymentMethod_Bank transfer (automatic)  \\\n",
            "customerID                                            \n",
            "7590-VHVEG                                        0   \n",
            "5575-GNVDE                                        0   \n",
            "3668-QPYBK                                        0   \n",
            "7795-CFOCW                                        1   \n",
            "9237-HQITU                                        0   \n",
            "...                                             ...   \n",
            "6840-RESVB                                        0   \n",
            "2234-XADUH                                        0   \n",
            "4801-JZAZL                                        0   \n",
            "8361-LTMKD                                        0   \n",
            "3186-AJIEK                                        1   \n",
            "\n",
            "            PaymentMethod_Credit card (automatic)  \\\n",
            "customerID                                          \n",
            "7590-VHVEG                                      0   \n",
            "5575-GNVDE                                      0   \n",
            "3668-QPYBK                                      0   \n",
            "7795-CFOCW                                      0   \n",
            "9237-HQITU                                      0   \n",
            "...                                           ...   \n",
            "6840-RESVB                                      0   \n",
            "2234-XADUH                                      1   \n",
            "4801-JZAZL                                      0   \n",
            "8361-LTMKD                                      0   \n",
            "3186-AJIEK                                      0   \n",
            "\n",
            "            PaymentMethod_Electronic check  PaymentMethod_Mailed check  \\\n",
            "customerID                                                               \n",
            "7590-VHVEG                               1                           0   \n",
            "5575-GNVDE                               0                           1   \n",
            "3668-QPYBK                               0                           1   \n",
            "7795-CFOCW                               0                           0   \n",
            "9237-HQITU                               1                           0   \n",
            "...                                    ...                         ...   \n",
            "6840-RESVB                               0                           1   \n",
            "2234-XADUH                               0                           0   \n",
            "4801-JZAZL                               1                           0   \n",
            "8361-LTMKD                               0                           1   \n",
            "3186-AJIEK                               0                           0   \n",
            "\n",
            "            Churn_No  Churn_Yes  \n",
            "customerID                       \n",
            "7590-VHVEG         1          0  \n",
            "5575-GNVDE         1          0  \n",
            "3668-QPYBK         0          1  \n",
            "7795-CFOCW         1          0  \n",
            "9237-HQITU         0          1  \n",
            "...              ...        ...  \n",
            "6840-RESVB         1          0  \n",
            "2234-XADUH         1          0  \n",
            "4801-JZAZL         1          0  \n",
            "8361-LTMKD         0          1  \n",
            "3186-AJIEK         1          0  \n",
            "\n",
            "[7032 rows x 47 columns]\n"
          ]
        }
      ],
      "source": [
        "# 여기에 one-hot-encoding 을 구현해 주세요.\n",
        "one_hot_encoded = pd.get_dummies(df, columns=['gender', 'Partner', 'Dependents', 'PhoneService', 'MultipleLines',\n",
        "                                              'InternetService', 'OnlineSecurity', 'OnlineBackup', 'DeviceProtection',\n",
        "                                              'TechSupport', 'StreamingTV', 'StreamingMovies', 'Contract','PaperlessBilling', \n",
        "                                              'PaymentMethod', 'Churn'])\n",
        "\n",
        "columns_to_convert = [col for col in one_hot_encoded.columns if col not in ['monthlycharges_group', 'totalcharges_group']]\n",
        "one_hot_encoded[columns_to_convert] = one_hot_encoded[columns_to_convert].astype(int)\n",
        "print(one_hot_encoded)"
      ]
    },
    {
      "cell_type": "markdown",
      "metadata": {
        "id": "sTzMbbiwTT79"
      },
      "source": [
        "## 미션 3) - 여러 피처 엔지니어링 기법을 적용하고 통신사 고객 이탈여부에 대한 모델의 성능을 Accuracy로 평가해 주세요.\n",
        "\n",
        "* 이 미션은 데이터 전처리와 피처 엔지니어링의 중요성을 이해하고, 실제 비즈니스 문제에 적용할 수 있는 머신러닝 모델을 개발하는 데 중점을 둡니다. 통신사 고객 데이터를 활용하여 고객의 이탈 여부를 예측하는 머신러닝 모델을 개발하고, 여러 피처 엔지니어링 기법을 적용하여 모델의 정확도(Accuracy)를 높여보세요. 고객 이탈 여부 예측은 통신사에 있어 중요한 비즈니스 문제로, 고객 유지 전략 수립에 큰 영향을 미칩니다.\n",
        "\n",
        "* 피처엔지니어링을 진행하고 모델의 성능을 평가합니다.\n",
        "* 모델은 트리계열 모델 외 다른 모델을 사용해도 됩니다.\n"
      ]
    },
    {
      "cell_type": "code",
      "execution_count": 35,
      "metadata": {
        "id": "WFQoyDVhTT79"
      },
      "outputs": [
        {
          "ename": "NameError",
          "evalue": "name 'df_ohe' is not defined",
          "output_type": "error",
          "traceback": [
            "\u001b[1;31m---------------------------------------------------------------------------\u001b[0m",
            "\u001b[1;31mNameError\u001b[0m                                 Traceback (most recent call last)",
            "Cell \u001b[1;32mIn[35], line 1\u001b[0m\n\u001b[1;32m----> 1\u001b[0m X \u001b[38;5;241m=\u001b[39m df_ohe\n\u001b[0;32m      2\u001b[0m y \u001b[38;5;241m=\u001b[39m df[\u001b[38;5;124m\"\u001b[39m\u001b[38;5;124mChurn\u001b[39m\u001b[38;5;124m\"\u001b[39m]\n",
            "\u001b[1;31mNameError\u001b[0m: name 'df_ohe' is not defined"
          ]
        }
      ],
      "source": [
        "X = df_ohe\n",
        "y = df[\"Churn\"]"
      ]
    },
    {
      "cell_type": "code",
      "execution_count": null,
      "metadata": {
        "id": "YoscVrAATT79"
      },
      "outputs": [],
      "source": [
        "from sklearn.model_selection import _______________\n",
        "\n",
        "X_train, X_test, y_train, y_test = _______________(\n",
        "    X, y, test_size=0.2, stratify=y, random_state=42)"
      ]
    },
    {
      "cell_type": "code",
      "execution_count": null,
      "metadata": {
        "id": "qVo76YvvTT79"
      },
      "outputs": [],
      "source": [
        "# 여기에 모델을 구현해 주세요.\n",
        "model = _______________"
      ]
    },
    {
      "cell_type": "code",
      "execution_count": null,
      "metadata": {
        "id": "FRCjSxKGTT7-"
      },
      "outputs": [],
      "source": [
        "# 위에서 만든 모델로 학습과 예측을 진행해 주세요.\n"
      ]
    },
    {
      "cell_type": "code",
      "execution_count": null,
      "metadata": {
        "id": "HTEruKxbTT7-"
      },
      "outputs": [],
      "source": [
        "# 학습 결과와 원래 정답과의 Accuracy(정확도)를 구해주세요.\n"
      ]
    },
    {
      "cell_type": "code",
      "execution_count": null,
      "metadata": {
        "id": "ZHTjJPe-TT7-"
      },
      "outputs": [],
      "source": []
    },
    {
      "cell_type": "code",
      "execution_count": null,
      "metadata": {
        "id": "AoWswtZCTT7-"
      },
      "outputs": [],
      "source": []
    },
    {
      "cell_type": "code",
      "execution_count": null,
      "metadata": {
        "id": "GMMHXSqqTT7-"
      },
      "outputs": [],
      "source": []
    }
  ],
  "metadata": {
    "colab": {
      "provenance": []
    },
    "kernelspec": {
      "display_name": "Python 3 (ipykernel)",
      "language": "python",
      "name": "python3"
    },
    "language_info": {
      "codemirror_mode": {
        "name": "ipython",
        "version": 3
      },
      "file_extension": ".py",
      "mimetype": "text/x-python",
      "name": "python",
      "nbconvert_exporter": "python",
      "pygments_lexer": "ipython3",
      "version": "3.11.4"
    },
    "toc": {
      "base_numbering": 1,
      "nav_menu": {},
      "number_sections": false,
      "sideBar": false,
      "skip_h1_title": false,
      "title_cell": "Table of Contents",
      "title_sidebar": "Contents",
      "toc_cell": false,
      "toc_position": {},
      "toc_section_display": true,
      "toc_window_display": false
    },
    "varInspector": {
      "cols": {
        "lenName": 16,
        "lenType": 16,
        "lenVar": 40
      },
      "kernels_config": {
        "python": {
          "delete_cmd_postfix": "",
          "delete_cmd_prefix": "del ",
          "library": "var_list.py",
          "varRefreshCmd": "print(var_dic_list())"
        },
        "r": {
          "delete_cmd_postfix": ") ",
          "delete_cmd_prefix": "rm(",
          "library": "var_list.r",
          "varRefreshCmd": "cat(var_dic_list()) "
        }
      },
      "types_to_exclude": [
        "module",
        "function",
        "builtin_function_or_method",
        "instance",
        "_Feature"
      ],
      "window_display": false
    }
  },
  "nbformat": 4,
  "nbformat_minor": 0
}
